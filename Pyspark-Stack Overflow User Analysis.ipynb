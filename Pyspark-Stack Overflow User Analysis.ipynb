{
 "cells": [
  {
   "cell_type": "markdown",
   "metadata": {},
   "source": [
    "# Spark Project\n",
    "## Explore the Stack Overflow User Behavior and Predict Question Popularity"
   ]
  },
  {
   "cell_type": "markdown",
   "metadata": {},
   "source": [
    "## Background: \n",
    "Stack Overflow is a collaboratively edited question-and-answer site originally focused on programming topics. There are a variety of features tracked, including a variety of feedback metrics, such as: \n",
    "* Title\n",
    "* Favorite counts\n",
    "* View counts\n",
    "* Answer counts\n",
    "* Score\n",
    "* Question tag\n",
    "* etc.\n",
    "\n",
    "The project focuses on the analysis of user behavior on the site.  Stack Exchange provides anonymized data, and I used Spark to perform data manipulation, analysis, and machine learning on the post and user data set."
   ]
  },
  {
   "cell_type": "markdown",
   "metadata": {},
   "source": [
    "## Data:\n",
    "There are two sets of data used in the project: \n",
    "A small dataset for xml parsing and Spark pipeline test \n",
    "* 108741 Posts\n",
    "* 50320 User Accounts\n",
    "\n",
    "The full dataset for exploratory analysis\n",
    "* Posts\n",
    "* User Accounts"
   ]
  },
  {
   "cell_type": "markdown",
   "metadata": {},
   "source": [
    "### Accessing the data\n"
   ]
  },
  {
   "cell_type": "code",
   "execution_count": 7,
   "metadata": {},
   "outputs": [
    {
     "name": "stdout",
     "output_type": "stream",
     "text": [
      "Completed 4.6 KiB/4.6 KiB (32.1 KiB/s) with 1 file(s) remaining\r",
      "download: s3://dataincubator-course/spark-stats-data/stack_exchange_schema.txt to ./stack_exchange_schema.txt\r\n"
     ]
    }
   ],
   "source": [
    "!aws s3 cp s3://dataincubator-course/spark-stats-data/stack_exchange_schema.txt ."
   ]
  },
  {
   "cell_type": "code",
   "execution_count": 1,
   "metadata": {},
   "outputs": [],
   "source": [
    "!mkdir -p spark-stats-data ## sample test data\n",
    "!aws s3 sync --exclude '*' --include 'all*' s3://dataincubator-course/spark-stats-data/ ./spark-stats-data\n",
    "!aws s3 sync --exclude '*' --include 'posts*zip' s3://dataincubator-course/spark-stats-data/ ./spark-stats-data"
   ]
  },
  {
   "cell_type": "code",
   "execution_count": null,
   "metadata": {},
   "outputs": [],
   "source": [
    "!mkdir -p spark-stack-data ## full data\n",
    "!aws s3 sync --exclude '*' --include 'all*' s3://dataincubator-course/spark-stack-data/ ./spark-stack-data"
   ]
  },
  {
   "cell_type": "markdown",
   "metadata": {},
   "source": [
    "## Analysis"
   ]
  },
  {
   "cell_type": "markdown",
   "metadata": {},
   "source": [
    "### Import packages"
   ]
  },
  {
   "cell_type": "code",
   "execution_count": 74,
   "metadata": {},
   "outputs": [],
   "source": [
    "%matplotlib inline\n",
    "import matplotlib\n",
    "import matplotlib.pyplot as plt\n",
    "import seaborn as sns\n",
    "sns.set()\n",
    "matplotlib.rcParams['figure.dpi'] = 144"
   ]
  },
  {
   "cell_type": "code",
   "execution_count": 22,
   "metadata": {},
   "outputs": [],
   "source": [
    "import os, time\n",
    "from lxml import etree\n",
    "import datetime as dt\n",
    "import numpy as np"
   ]
  },
  {
   "cell_type": "code",
   "execution_count": 7,
   "metadata": {},
   "outputs": [],
   "source": [
    "from pyspark.sql import SparkSession\n",
    "from pyspark import SparkContext"
   ]
  },
  {
   "cell_type": "code",
   "execution_count": 224,
   "metadata": {},
   "outputs": [
    {
     "data": {
      "text/plain": [
       "0"
      ]
     },
     "execution_count": 224,
     "metadata": {},
     "output_type": "execute_result"
    }
   ],
   "source": [
    "import gc\n",
    "gc.collect()"
   ]
  },
  {
   "cell_type": "code",
   "execution_count": 11,
   "metadata": {},
   "outputs": [],
   "source": [
    "sc = SparkContext(\"local[*]\",\"mini project\")\n",
    "spark = SparkSession(sc)"
   ]
  },
  {
   "cell_type": "code",
   "execution_count": 12,
   "metadata": {},
   "outputs": [],
   "source": [
    "sc.stop()"
   ]
  },
  {
   "cell_type": "markdown",
   "metadata": {},
   "source": [
    "### Data parsing functions"
   ]
  },
  {
   "cell_type": "markdown",
   "metadata": {},
   "source": [
    "* Some rows are split across multiple lines; these were discarded. Incorrectly formatted XML can also be ignored. \n",
    "\n",
    "* Use `lxml.etree` for parsing (UTF-8 encode)"
   ]
  },
  {
   "cell_type": "code",
   "execution_count": 31,
   "metadata": {},
   "outputs": [],
   "source": [
    "def xml_filter(rdd):  ## xml filter to keep only <row />\n",
    "    new_rdd = rdd.filter(lambda s:'<row' in s and '/>' in s)\n",
    "    return new_rdd"
   ]
  },
  {
   "cell_type": "code",
   "execution_count": 32,
   "metadata": {},
   "outputs": [],
   "source": [
    "def get_attr(x, y): ## helper function to deal with None attriutes in the post\n",
    "    '''\n",
    "    if x is None, y is the alternative\n",
    "    '''\n",
    "    if x:\n",
    "        return x\n",
    "    else:\n",
    "        return y"
   ]
  },
  {
   "cell_type": "code",
   "execution_count": 33,
   "metadata": {},
   "outputs": [],
   "source": [
    "def convert_time(string):\n",
    "    t = dt.datetime.strptime(string,\"%Y-%m-%dT%H:%M:%S.%f\")\n",
    "    return t"
   ]
  },
  {
   "cell_type": "code",
   "execution_count": 34,
   "metadata": {},
   "outputs": [],
   "source": [
    "from datetime import datetime\n",
    "from lxml import etree\n",
    "def post_parse(xml_string):\n",
    "    d = dict()\n",
    "    root = etree.fromstring(xml_string.encode('UTF-8', errors='replace'))\n",
    "    \n",
    "    d['Title'] = get_attr(root.get('Title'),-9999)\n",
    "    d[\"FavoriteCount\"] = int(get_attr(root.get(\"FavoriteCount\"),0))\n",
    "    d[\"Score\"] = int(get_attr(root.get(\"Score\"),0))\n",
    "    d[\"AnswerCount\"] = int(get_attr(root.get('AnswerCount'),0))\n",
    "    d[\"CommentCount\"] = int(get_attr(root.get('CommentCount'),0))\n",
    "    d[\"ViewCount\"] = int(get_attr(root.get('ViewCount'),0))\n",
    "    d[\"LastEditorUserId\"] = int(get_attr(root.get('LastEditorUserId'),-9999))\n",
    "    d[\"OwnerUserId\"] = int(get_attr(root.get('OwnerUserId'),-9999))\n",
    "    d[\"PostTypeId\"] = int(get_attr(root.get('PostTypeId'),-9999))\n",
    "    d[\"CreationDate\"] = convert_time(get_attr(root.get('CreationDate'),'9000-01-01T01:01:01.001'))\n",
    "    d[\"Tags\"] = get_attr(root.get('Tags'),'Notag').strip('<').strip('>').split('><')\n",
    "    d['Body'] = get_attr(root.get('Body'),'Nobody')\n",
    "    d[\"Id\"] = int(get_attr(root.get('Id'),-9999))\n",
    "    return d\n",
    "\n",
    "def user_parse(xml_string):\n",
    "    d = dict()\n",
    "    root = etree.fromstring(xml_string.encode('UTF-8', errors='replace'))\n",
    "    \n",
    "    d[\"UserId\"] = int(get_attr(root.get('Id'),-9999))\n",
    "    d[\"Reputation\"] = int(get_attr(root.get(\"Reputation\"),-9999))\n",
    "    d[\"CreationDate\"] = convert_time(get_attr(root.get('CreationDate'),'9000-01-01T01:01:01.001'))\n",
    "  \n",
    "    return d\n",
    "\n",
    "def get_date(xml_string):\n",
    "    root = etree.fromstring(xml_string.encode('UTF-8', errors='replace'))\n",
    "    date = root.get('CreationDate')\n",
    "    return date\n",
    "\n",
    "def get_body(xml_string):\n",
    "    \n",
    "    root = etree.fromstring(xml_string.encode('UTF-8', errors='replace'))\n",
    "    x = get_attr(root.get('Body'),'Nobody')\n",
    "    soup = BeautifulSoup(x,'lxml')\n",
    "    y = re.sub(r'[%#,\\n,\\\\]', ' ',soup.get_text())\n",
    "\n",
    "    return y\n",
    "\n",
    "def get_tag(xml_string):\n",
    "    root = etree.fromstring(xml_string.encode('UTF-8', errors='replace'))\n",
    "    x = get_attr(root.get('Tags'),'NoTag')\n",
    "    return x.strip('<').strip('>').split('><')"
   ]
  },
  {
   "cell_type": "code",
   "execution_count": 17,
   "metadata": {},
   "outputs": [],
   "source": [
    "## could build a class for parsing\n",
    "class Parse_xml(object):\n",
    "    def __init__(self, xml_string,d):\n",
    "        self.xml_string = xml_string\n",
    "        self.root = etree.fromstring(xml_string.encode('UTF-8', errors='replace'))\n",
    "        self.d = dict()\n",
    "    @classmethod\n",
    "    def post_parse(xml_string):\n",
    "\n",
    "        d['Title'] = get_attr(root.get('Title'),-9999)\n",
    "        d[\"FavoriteCount\"] = int(get_attr(root.get(\"FavoriteCount\"),0))\n",
    "        d[\"Score\"] = int(get_attr(root.get(\"Score\"),0))\n",
    "        d[\"AnswerCount\"] = int(get_attr(root.get('AnswerCount'),0))\n",
    "        d[\"CommentCount\"] = int(get_attr(root.get('CommentCount'),0))\n",
    "        d[\"ViewCount\"] = int(get_attr(root.get('ViewCount'),0))\n",
    "        d[\"LastEditorUserId\"] = int(get_attr(root.get('LastEditorUserId'),-9999))\n",
    "        d[\"OwnerUserId\"] = int(get_attr(root.get('OwnerUserId'),-9999))\n",
    "        d[\"PostTypeId\"] = int(get_attr(root.get('PostTypeId'),-9999))\n",
    "        d[\"CreationDate\"] = convert_time(get_attr(root.get('CreationDate'),'9000-01-01T01:01:01.001'))\n",
    "        d[\"Tags\"] = get_attr(root.get('Tags'),'Notag').strip('<').strip('>').split('><')\n",
    "        d['Body'] = get_attr(root.get('Body'),'Nobody')\n",
    "        d[\"Id\"] = int(get_attr(root.get('Id'),-9999))\n",
    "        \n",
    "        return cls(d)\n",
    "\n",
    "    def user_parse(xml_string):\n",
    "        d = dict()\n",
    "\n",
    "        d[\"UserId\"] = int(get_attr(root.get('Id'),-9999))\n",
    "        d[\"Reputation\"] = int(get_attr(root.get(\"Reputation\"),-9999))\n",
    "        d[\"CreationDate\"] = convert_time(get_attr(root.get('CreationDate'),'9000-01-01T01:01:01.001'))\n",
    "\n",
    "        return cls(d)\n",
    "    \n",
    "    def get_tag(xml_string):\n",
    "        x = get_attr(root.get('Tags'),'NoTag').strip('<').strip('>').split('><')\n",
    "        \n",
    "        return cls(x)\n",
    "    \n",
    "    def get_body(xml_string):\n",
    "    \n",
    "        root = etree.fromstring(xml_string.encode('UTF-8', errors='replace'))\n",
    "        x = get_attr(root.get('Body'),'Nobody')\n",
    "        soup = BeautifulSoup(x,'lxml')\n",
    "        y = re.sub(r'[%#,\\n,\\\\]', ' ',soup.get_text())\n",
    "        \n",
    "        return cls(y)"
   ]
  },
  {
   "cell_type": "markdown",
   "metadata": {},
   "source": [
    "### 1. Explorary Analysis"
   ]
  },
  {
   "cell_type": "markdown",
   "metadata": {},
   "source": [
    "### 1). Post of high reputation users"
   ]
  },
  {
   "cell_type": "markdown",
   "metadata": {},
   "source": [
    "Investigate the correlation between a user's reputation and the kind of posts they make. \n",
    "For the 99 users with the highest reputation, look at the percentage of these posts that are answers: *(answers / (answers + questions))*. "
   ]
  },
  {
   "cell_type": "code",
   "execution_count": 18,
   "metadata": {},
   "outputs": [],
   "source": [
    "post_rdd = sc.textFile('/home/jovyan/datacourse/spark.new/miniprojects/spark-stats-data/allPosts')\n",
    "post_rdd = xml_filter(post_rdd)\n",
    "user_rdd = sc.textFile('/home/jovyan/datacourse/spark.new/miniprojects/spark-stats-data/allUsers')\n",
    "user_rdd = xml_filter(user_rdd)"
   ]
  },
  {
   "cell_type": "code",
   "execution_count": 23,
   "metadata": {},
   "outputs": [
    {
     "data": {
      "text/plain": [
       "[(919, 100976, datetime.datetime(2010, 8, 13, 15, 29, 47, 140000)),\n",
       " (805, 92624, datetime.datetime(2010, 8, 7, 8, 40, 7, 287000)),\n",
       " (686, 47334, datetime.datetime(2010, 8, 3, 19, 42, 40, 907000))]"
      ]
     },
     "execution_count": 23,
     "metadata": {},
     "output_type": "execute_result"
    }
   ],
   "source": [
    "user_rep = user_rdd.map(lambda x: user_parse(x)).sortBy(lambda x: x[1],ascending=False)"
   ]
  },
  {
   "cell_type": "code",
   "execution_count": 36,
   "metadata": {},
   "outputs": [],
   "source": [
    "post_dict = post_rdd.map(lambda x:post_parse(x))"
   ]
  },
  {
   "cell_type": "code",
   "execution_count": 37,
   "metadata": {},
   "outputs": [],
   "source": [
    "post_type = post_dict.map(lambda x: (x['OwnerUserId'],x['PostTypeId']))"
   ]
  },
  {
   "cell_type": "code",
   "execution_count": 38,
   "metadata": {},
   "outputs": [],
   "source": [
    "ques_rdd = post_type.filter(lambda x: x[1] == 1)\n",
    "ans_rdd = post_type.filter(lambda x: x[1] == 2)"
   ]
  },
  {
   "cell_type": "code",
   "execution_count": 39,
   "metadata": {},
   "outputs": [
    {
     "data": {
      "text/plain": [
       "([(198, 1), (20010, 1), (12329, 1), (7667, 1), (11233, 1)],\n",
       " [(2111, 2), (18274, 2), (858, 2), (16974, 2), (20014, 2)])"
      ]
     },
     "execution_count": 39,
     "metadata": {},
     "output_type": "execute_result"
    }
   ],
   "source": [
    "ques_rdd.take(5),ans_rdd.take(5)"
   ]
  },
  {
   "cell_type": "code",
   "execution_count": 41,
   "metadata": {},
   "outputs": [],
   "source": [
    "ques_rdd_aggre = ques_rdd.map(lambda x: (x[0],1)).reduceByKey(lambda x, y: x + y)\n",
    "ans_rdd_aggre = ans_rdd.map(lambda x: (x[0],1)).reduceByKey(lambda x, y: x + y)"
   ]
  },
  {
   "cell_type": "code",
   "execution_count": 42,
   "metadata": {},
   "outputs": [
    {
     "data": {
      "text/plain": [
       "([(198, 7), (7667, 7), (20031, 1)], [(858, 107), (6633, 226), (6248, 56)])"
      ]
     },
     "execution_count": 42,
     "metadata": {},
     "output_type": "execute_result"
    }
   ],
   "source": [
    "ques_rdd_aggre.take(3),ans_rdd_aggre.take(3)"
   ]
  },
  {
   "cell_type": "code",
   "execution_count": 43,
   "metadata": {},
   "outputs": [
    {
     "data": {
      "text/plain": [
       "(55304, 52060)"
      ]
     },
     "execution_count": 43,
     "metadata": {},
     "output_type": "execute_result"
    }
   ],
   "source": [
    "ans_rdd_aggre.map(lambda x:x[1]).sum(),ques_rdd_aggre.map(lambda x:x[1]).sum()"
   ]
  },
  {
   "cell_type": "code",
   "execution_count": 206,
   "metadata": {},
   "outputs": [],
   "source": [
    "ans_ques= ans_rdd_aggre.fullOuterJoin(ques_rdd_aggre)"
   ]
  },
  {
   "cell_type": "code",
   "execution_count": 48,
   "metadata": {},
   "outputs": [],
   "source": [
    "## question and answer aggregation\n",
    "ques_rdd_aggre = post_rdd.map(lambda x:post_parse(x)) \\\n",
    "                   .map(lambda x: (x['OwnerUserId'],x['PostTypeId'])) \\\n",
    "                   .filter(lambda x: x[1] == 1).map(lambda x: (x[0],1)) \\\n",
    "                   .reduceByKey(lambda x, y: x + y).cache()\n",
    "\n",
    "ans_rdd_aggre = post_rdd.map(lambda x:post_parse(x)) \\\n",
    "                   .map(lambda x: (x['OwnerUserId'],x['PostTypeId'])) \\\n",
    "                   .filter(lambda x: x[1] == 2) \\\n",
    "                   .map(lambda x: (x[0],1)) \\\n",
    "                   .reduceByKey(lambda x, y: x + y).cache()\n",
    "\n",
    "ans_ques = ans_rdd_aggre.fullOuterJoin(ques_rdd_aggre)"
   ]
  },
  {
   "cell_type": "code",
   "execution_count": 50,
   "metadata": {},
   "outputs": [],
   "source": [
    "user_rdd = sc.textFile('/home/jovyan/datacourse/spark.new/miniprojects/spark-stats-data/allUsers')\n",
    "user_rdd = xml_filter(user_rdd)"
   ]
  },
  {
   "cell_type": "code",
   "execution_count": 61,
   "metadata": {},
   "outputs": [],
   "source": [
    "user_rep = user_rdd.map(lambda x: user_parse(x)) \\\n",
    "                   .map(lambda x: (x['UserId'],x[\"Reputation\"])) \\\n",
    "                   .sortBy(lambda x: x[1],ascending=False).cache()"
   ]
  },
  {
   "cell_type": "code",
   "execution_count": 63,
   "metadata": {},
   "outputs": [],
   "source": [
    "import pandas as pd"
   ]
  },
  {
   "cell_type": "code",
   "execution_count": 64,
   "metadata": {},
   "outputs": [],
   "source": [
    "df_user = pd.DataFrame(user_rep.collect(),columns = ['user','rep'])"
   ]
  },
  {
   "cell_type": "code",
   "execution_count": 65,
   "metadata": {},
   "outputs": [],
   "source": [
    "df_ans_ques = pd.DataFrame(ans_ques.map(lambda x: (x[0],*x[1])).collect(),columns = ['user','n_ans','n_ques'])\n",
    "df_ans_ques = df_ans_ques.fillna(0)\n",
    "df_ans_ques['ans_ratio'] = df_ans_ques['n_ans']/(df_ans_ques['n_ans']+df_ans_ques['n_ques'])"
   ]
  },
  {
   "cell_type": "code",
   "execution_count": 79,
   "metadata": {},
   "outputs": [
    {
     "data": {
      "text/html": [
       "<div>\n",
       "<style scoped>\n",
       "    .dataframe tbody tr th:only-of-type {\n",
       "        vertical-align: middle;\n",
       "    }\n",
       "\n",
       "    .dataframe tbody tr th {\n",
       "        vertical-align: top;\n",
       "    }\n",
       "\n",
       "    .dataframe thead th {\n",
       "        text-align: right;\n",
       "    }\n",
       "</style>\n",
       "<table border=\"1\" class=\"dataframe\">\n",
       "  <thead>\n",
       "    <tr style=\"text-align: right;\">\n",
       "      <th></th>\n",
       "      <th>user</th>\n",
       "      <th>rep</th>\n",
       "      <th>n_ans</th>\n",
       "      <th>n_ques</th>\n",
       "      <th>ans_ratio</th>\n",
       "    </tr>\n",
       "  </thead>\n",
       "  <tbody>\n",
       "    <tr>\n",
       "      <th>0</th>\n",
       "      <td>919</td>\n",
       "      <td>100976</td>\n",
       "      <td>1206.0</td>\n",
       "      <td>4.0</td>\n",
       "      <td>0.996694</td>\n",
       "    </tr>\n",
       "    <tr>\n",
       "      <th>1</th>\n",
       "      <td>805</td>\n",
       "      <td>92624</td>\n",
       "      <td>2227.0</td>\n",
       "      <td>9.0</td>\n",
       "      <td>0.995975</td>\n",
       "    </tr>\n",
       "    <tr>\n",
       "      <th>2</th>\n",
       "      <td>686</td>\n",
       "      <td>47334</td>\n",
       "      <td>1543.0</td>\n",
       "      <td>31.0</td>\n",
       "      <td>0.980305</td>\n",
       "    </tr>\n",
       "    <tr>\n",
       "      <th>3</th>\n",
       "      <td>7290</td>\n",
       "      <td>46907</td>\n",
       "      <td>856.0</td>\n",
       "      <td>7.0</td>\n",
       "      <td>0.991889</td>\n",
       "    </tr>\n",
       "    <tr>\n",
       "      <th>4</th>\n",
       "      <td>930</td>\n",
       "      <td>32283</td>\n",
       "      <td>430.0</td>\n",
       "      <td>8.0</td>\n",
       "      <td>0.981735</td>\n",
       "    </tr>\n",
       "  </tbody>\n",
       "</table>\n",
       "</div>"
      ],
      "text/plain": [
       "   user     rep   n_ans  n_ques  ans_ratio\n",
       "0   919  100976  1206.0     4.0   0.996694\n",
       "1   805   92624  2227.0     9.0   0.995975\n",
       "2   686   47334  1543.0    31.0   0.980305\n",
       "3  7290   46907   856.0     7.0   0.991889\n",
       "4   930   32283   430.0     8.0   0.981735"
      ]
     },
     "execution_count": 79,
     "metadata": {},
     "output_type": "execute_result"
    }
   ],
   "source": [
    "df_user_post = df_user.merge(df_ans_ques,on='user',how = 'left')\n",
    "df_user_post[0:5]"
   ]
  },
  {
   "cell_type": "code",
   "execution_count": 136,
   "metadata": {},
   "outputs": [
    {
     "data": {
      "text/plain": [
       "Text(0.5,0.98,'Answer-question ratio vs reputation')"
      ]
     },
     "execution_count": 136,
     "metadata": {},
     "output_type": "execute_result"
    },
    {
     "data": {
      "image/png": "[encoded data removed]",
      "text/plain": [
       "<Figure size 720x432 with 1 Axes>"
      ]
     },
     "metadata": {},
     "output_type": "display_data"
    }
   ],
   "source": [
    "# plt.style.use('Solarize_Light2')\n",
    "fig, ax = plt.subplots(figsize=(5,3))\n",
    "ax.plot(df_user_post[0:50]['rep'],df_user_post[0:50]['ans_ratio'])\n",
    "# plt.title('Answer-question ratio vs reputation')\n",
    "fig.suptitle('Answer-question ratio vs reputation', fontsize=10)"
   ]
  },
  {
   "cell_type": "markdown",
   "metadata": {},
   "source": [
    "### 2). Identify veterans and brief users - sample test data\n"
   ]
  },
  {
   "cell_type": "markdown",
   "metadata": {},
   "source": [
    "What factors influence a user to remain active on the site over a long period of time?\n",
    "\n",
    "A time window between 100 and 150 days after account creation was defined a active user of the website. \n",
    "\n",
    "If the user has made a post in this time, we consider them active and well on their way to being veterans of the site; if not, they are inactive and were likely brief users."
   ]
  },
  {
   "cell_type": "markdown",
   "metadata": {},
   "source": [
    "#### Pyspark DataFrame solution"
   ]
  },
  {
   "cell_type": "code",
   "execution_count": 88,
   "metadata": {},
   "outputs": [],
   "source": [
    "post_rdd = sc.textFile('/home/jovyan/datacourse/spark.new/miniprojects/spark-stats-data/allPosts')\n",
    "user_rdd = sc.textFile('/home/jovyan/datacourse/spark.new/miniprojects/spark-stats-data/allUsers')\n",
    "post_rdd = xml_filter(post_rdd)\n",
    "user_rdd = xml_filter(user_rdd)"
   ]
  },
  {
   "cell_type": "code",
   "execution_count": 89,
   "metadata": {},
   "outputs": [],
   "source": [
    "post_date = post_rdd.map(lambda x:post_parse(x)).map(lambda x: (x['OwnerUserId'],x['CreationDate']))\n",
    "all_user = user_rdd.map(lambda x: user_parse(x)).map(lambda x: (x['UserId'],x['CreationDate']))"
   ]
  },
  {
   "cell_type": "code",
   "execution_count": 90,
   "metadata": {},
   "outputs": [],
   "source": [
    "post_user = all_user.rightOuterJoin(post_date)"
   ]
  },
  {
   "cell_type": "code",
   "execution_count": 91,
   "metadata": {},
   "outputs": [],
   "source": [
    "vet = post_user.filter(lambda x: x[1][0]!=None) \\\n",
    "               .map(lambda x: (x[0],(x[1][1]-x[1][0]).days)) \\\n",
    "               .filter(lambda x: x[1]!=None) \\\n",
    "               .filter(lambda x: (x[1]>=100) and (x[1]<150)) \\\n",
    "               .reduceByKey(lambda x, y: (x if (x < y) else y)) \\\n",
    "               .map(lambda x: (x[0],1)).cache()"
   ]
  },
  {
   "cell_type": "code",
   "execution_count": 92,
   "metadata": {},
   "outputs": [
    {
     "data": {
      "text/plain": [
       "True"
      ]
     },
     "execution_count": 92,
     "metadata": {},
     "output_type": "execute_result"
    }
   ],
   "source": [
    "hasattr(vet, \"toDF\")"
   ]
  },
  {
   "cell_type": "code",
   "execution_count": 93,
   "metadata": {},
   "outputs": [],
   "source": [
    "df_vet = vet.toDF(['userid','vet']).cache()"
   ]
  },
  {
   "cell_type": "code",
   "execution_count": 95,
   "metadata": {},
   "outputs": [],
   "source": [
    "first_q = post_rdd.map(lambda x:post_parse(x)) \\\n",
    "                  .filter(lambda x: x['PostTypeId']==1) \\\n",
    "                  .map(lambda x: (x['OwnerUserId'],\n",
    "                                      (x['CreationDate'],x['Score'],x['ViewCount'],x['AnswerCount'],x['FavoriteCount']))) \\\n",
    "                  .reduceByKey(lambda x, y: (x if (x[0] < y[0]) else y)) \\\n",
    "                  .map(lambda x: (x[0],*x[1])).cache()"
   ]
  },
  {
   "cell_type": "code",
   "execution_count": 96,
   "metadata": {},
   "outputs": [
    {
     "data": {
      "text/plain": [
       "True"
      ]
     },
     "execution_count": 96,
     "metadata": {},
     "output_type": "execute_result"
    }
   ],
   "source": [
    "hasattr(first_q, \"toDF\")"
   ]
  },
  {
   "cell_type": "code",
   "execution_count": 97,
   "metadata": {},
   "outputs": [],
   "source": [
    "df_fq= first_q.toDF(['userid','postdate','score','view','answer','favorite'])"
   ]
  },
  {
   "cell_type": "code",
   "execution_count": 100,
   "metadata": {},
   "outputs": [],
   "source": [
    "df_fq_cat = df_fq.join(df_vet,on = 'userid',how = 'left')\n",
    "df_fq_cat = df_fq_cat.na.fill(0)"
   ]
  },
  {
   "cell_type": "code",
   "execution_count": 101,
   "metadata": {},
   "outputs": [
    {
     "data": {
      "text/plain": [
       "[Row(vet=0, avg(score)=2.1085569525239256, avg(view)=557.6710452242447, avg(answer)=0.9730718708951023, avg(favorite)=0.5793300806905611),\n",
       " Row(vet=1, avg(score)=3.5434543454345433, avg(view)=926.3982398239824, avg(answer)=1.2981298129812981, avg(favorite)=1.300880088008801)]"
      ]
     },
     "execution_count": 101,
     "metadata": {},
     "output_type": "execute_result"
    }
   ],
   "source": [
    "df_fq_cat.groupBy('vet').mean('score','view','answer','favorite').collect()"
   ]
  },
  {
   "cell_type": "code",
   "execution_count": 143,
   "metadata": {},
   "outputs": [],
   "source": [
    "df_vb_mean = df_fq_cat.groupBy('vet').mean('score','view','answer','favorite').toPandas()\n",
    "df_vb_mean = df_vb_mean.set_index('vet').transpose()"
   ]
  },
  {
   "cell_type": "code",
   "execution_count": 169,
   "metadata": {},
   "outputs": [
    {
     "data": {
      "text/html": [
       "<div>\n",
       "<style scoped>\n",
       "    .dataframe tbody tr th:only-of-type {\n",
       "        vertical-align: middle;\n",
       "    }\n",
       "\n",
       "    .dataframe tbody tr th {\n",
       "        vertical-align: top;\n",
       "    }\n",
       "\n",
       "    .dataframe thead th {\n",
       "        text-align: right;\n",
       "    }\n",
       "</style>\n",
       "<table border=\"1\" class=\"dataframe\">\n",
       "  <thead>\n",
       "    <tr style=\"text-align: right;\">\n",
       "      <th>vet</th>\n",
       "      <th>0</th>\n",
       "      <th>1</th>\n",
       "    </tr>\n",
       "  </thead>\n",
       "  <tbody>\n",
       "    <tr>\n",
       "      <th>avg(score)</th>\n",
       "      <td>2.108557</td>\n",
       "      <td>3.543454</td>\n",
       "    </tr>\n",
       "    <tr>\n",
       "      <th>avg(view)</th>\n",
       "      <td>557.671045</td>\n",
       "      <td>926.398240</td>\n",
       "    </tr>\n",
       "    <tr>\n",
       "      <th>avg(answer)</th>\n",
       "      <td>0.973072</td>\n",
       "      <td>1.298130</td>\n",
       "    </tr>\n",
       "    <tr>\n",
       "      <th>avg(favorite)</th>\n",
       "      <td>0.579330</td>\n",
       "      <td>1.300880</td>\n",
       "    </tr>\n",
       "  </tbody>\n",
       "</table>\n",
       "</div>"
      ],
      "text/plain": [
       "vet                     0           1\n",
       "avg(score)       2.108557    3.543454\n",
       "avg(view)      557.671045  926.398240\n",
       "avg(answer)      0.973072    1.298130\n",
       "avg(favorite)    0.579330    1.300880"
      ]
     },
     "execution_count": 169,
     "metadata": {},
     "output_type": "execute_result"
    }
   ],
   "source": [
    "df_vb_mean"
   ]
  },
  {
   "cell_type": "code",
   "execution_count": 199,
   "metadata": {},
   "outputs": [
    {
     "data": {
      "text/plain": [
       "<matplotlib.axes._subplots.AxesSubplot at 0x7fd806fae128>"
      ]
     },
     "execution_count": 199,
     "metadata": {},
     "output_type": "execute_result"
    },
    {
     "data": {
      "image/png": "[encoded data removed]",
      "text/plain": [
       "<Figure size 1440x432 with 2 Axes>"
      ]
     },
     "metadata": {},
     "output_type": "display_data"
    }
   ],
   "source": [
    "fig, axes = plt.subplots(nrows=1, ncols = 2,figsize=(10,3))\n",
    "df_vb_mean.loc[['avg(score)','avg(answer)','avg(favorite)']].plot.bar(rot=0,ax=axes[0])\n",
    "df_vb_mean.loc[['avg(view)']].plot.bar(rot=0,ax=axes[1])"
   ]
  },
  {
   "cell_type": "markdown",
   "metadata": {},
   "source": [
    "### 3). Identify veterans and brief users - full data\n"
   ]
  },
  {
   "cell_type": "markdown",
   "metadata": {},
   "source": [
    "* Total brief users: 1,848,628\n",
    "* Total veteran users: 288,285"
   ]
  },
  {
   "cell_type": "markdown",
   "metadata": {},
   "source": [
    "### Dataframe solution"
   ]
  },
  {
   "cell_type": "code",
   "execution_count": 21,
   "metadata": {},
   "outputs": [],
   "source": [
    "post_rdd = sc.textFile('/home/jovyan/datacourse/spark.new/miniprojects/spark-stack-data/allPosts')\n",
    "user_rdd = sc.textFile('/home/jovyan/datacourse/spark.new/miniprojects/spark-stack-data/allUsers')"
   ]
  },
  {
   "cell_type": "code",
   "execution_count": 22,
   "metadata": {},
   "outputs": [],
   "source": [
    "post_rdd = xml_filter(post_rdd)\n",
    "user_rdd = xml_filter(user_rdd)"
   ]
  },
  {
   "cell_type": "code",
   "execution_count": 23,
   "metadata": {},
   "outputs": [],
   "source": [
    "post_date = post_rdd.map(lambda x:post_parse(x)).map(lambda x: (x['OwnerUserId'],x['CreationDate']))\n",
    "all_user = user_rdd.map(lambda x: user_parse(x)).map(lambda x: (x['UserId'],x['CreationDate']))"
   ]
  },
  {
   "cell_type": "code",
   "execution_count": 26,
   "metadata": {},
   "outputs": [],
   "source": [
    "post_user = all_user.rightOuterJoin(post_date)"
   ]
  },
  {
   "cell_type": "code",
   "execution_count": 27,
   "metadata": {},
   "outputs": [],
   "source": [
    "vet = post_user.filter(lambda x: x[1][0]!=None) \\\n",
    "               .map(lambda x: (x[0],(x[1][1]-x[1][0]).days)) \\\n",
    "               .filter(lambda x: x[1]!=None) \\\n",
    "               .filter(lambda x: (x[1]>=100) and (x[1]<150)) \\\n",
    "               .reduceByKey(lambda x, y: (x if (x < y) else y)) \\\n",
    "               .map(lambda x: (x[0],1))"
   ]
  },
  {
   "cell_type": "code",
   "execution_count": 239,
   "metadata": {},
   "outputs": [],
   "source": [
    "from pyspark.sql import SQLContext\n",
    "sqlContext = SQLContext(sc)"
   ]
  },
  {
   "cell_type": "code",
   "execution_count": 28,
   "metadata": {},
   "outputs": [
    {
     "data": {
      "text/plain": [
       "True"
      ]
     },
     "execution_count": 28,
     "metadata": {},
     "output_type": "execute_result"
    }
   ],
   "source": [
    "hasattr(vet, \"toDF\")"
   ]
  },
  {
   "cell_type": "code",
   "execution_count": 29,
   "metadata": {},
   "outputs": [],
   "source": [
    "df_vet = vet.toDF(['userid','vet']).cache()"
   ]
  },
  {
   "cell_type": "code",
   "execution_count": 33,
   "metadata": {},
   "outputs": [],
   "source": [
    "first_q = post_rdd.map(lambda x:post_parse(x)) \\\n",
    "                  .filter(lambda x: x['PostTypeId']==1) \\\n",
    "                  .map(lambda x: (x['OwnerUserId'],\n",
    "                                      (x['CreationDate'],x['Score'],x['ViewCount'],x['AnswerCount'],x['FavoriteCount']))) \\\n",
    "                  .reduceByKey(lambda x, y: (x if (x[0] < y[0]) else y)) \\\n",
    "                  .map(lambda x: (x[0],x[1][0],x[1][1],x[1][2],x[1][3],x[1][4]))"
   ]
  },
  {
   "cell_type": "code",
   "execution_count": 34,
   "metadata": {},
   "outputs": [
    {
     "data": {
      "text/plain": [
       "True"
      ]
     },
     "execution_count": 34,
     "metadata": {},
     "output_type": "execute_result"
    }
   ],
   "source": [
    "hasattr(first_q, \"toDF\")"
   ]
  },
  {
   "cell_type": "code",
   "execution_count": 35,
   "metadata": {},
   "outputs": [],
   "source": [
    "df_fq= first_q.toDF(['userid','postdate','score','view','answer','favorite']).cache()"
   ]
  },
  {
   "cell_type": "code",
   "execution_count": 41,
   "metadata": {},
   "outputs": [],
   "source": [
    "df_fq_cat = df_fq.join(df_vet,on = 'userid',how = 'left')"
   ]
  },
  {
   "cell_type": "code",
   "execution_count": 43,
   "metadata": {},
   "outputs": [
    {
     "data": {
      "text/plain": [
       "DataFrame[userid: bigint, postdate: timestamp, score: bigint, view: bigint, answer: bigint, favorite: bigint, vet: bigint]"
      ]
     },
     "execution_count": 43,
     "metadata": {},
     "output_type": "execute_result"
    }
   ],
   "source": [
    "df_fq_cat.cache()\n",
    "df_fq_cat = df_fq_cat.na.fill(0)"
   ]
  },
  {
   "cell_type": "code",
   "execution_count": 44,
   "metadata": {},
   "outputs": [
    {
     "data": {
      "text/plain": [
       "[Row(vet=0, avg(score)=1.1422597806491668, avg(view)=1103.6014704081429, avg(answer)=1.506747558575672, avg(favorite)=0.3918475366462847),\n",
       " Row(vet=1, avg(score)=2.2598437331442924, avg(view)=1844.0344896669696, avg(answer)=1.8426197044183144, avg(favorite)=0.8673157237744455)]"
      ]
     },
     "execution_count": 44,
     "metadata": {},
     "output_type": "execute_result"
    }
   ],
   "source": [
    "df_fq_cat.groupBy('vet').mean('score','view','answer','favorite').collect()"
   ]
  },
  {
   "cell_type": "code",
   "execution_count": null,
   "metadata": {},
   "outputs": [],
   "source": [
    "[Row(vet=0, avg(score)=1.1422597806491668, avg(view)=1103.6014704081429, avg(answer)=1.506747558575672, avg(favorite)=0.3918475366462847),\n",
    " Row(vet=1, avg(score)=2.2598437331442924, avg(view)=1844.0344896669696, avg(answer)=1.8426197044183144, avg(favorite)=0.8673157237744455)]"
   ]
  },
  {
   "cell_type": "markdown",
   "metadata": {},
   "source": [
    "### 4). Word2vec Model for synonyms similarity\n"
   ]
  },
  {
   "cell_type": "markdown",
   "metadata": {},
   "source": [
    "Word2Vec is an alternative approach for vectorizing text data. The vectorized representations of words in the vocabulary tend to be useful for predicting other words in the document, hence the famous example \"vector('king') - vector('man') + vector('woman') ~= vector('queen')\".\n",
    "\n",
    "Train a Word2Vec model using the tags of each Stack Exchange post as documents. Used the implementation of Word2Vec from Spark ML  to return a list of the top 25 closest synonyms to \"ggplot2\" and their similarity score."
   ]
  },
  {
   "cell_type": "markdown",
   "metadata": {},
   "source": [
    "The dimensionality of the vector space set to be 100."
   ]
  },
  {
   "cell_type": "code",
   "execution_count": 200,
   "metadata": {},
   "outputs": [],
   "source": [
    "from pyspark.ml.feature import Word2Vec"
   ]
  },
  {
   "cell_type": "code",
   "execution_count": 201,
   "metadata": {},
   "outputs": [],
   "source": [
    "post_rdd = sc.textFile('/home/jovyan/datacourse/spark.new/miniprojects/spark-stack-data/allPosts')\n",
    "post_rdd = xml_filter(post_rdd)"
   ]
  },
  {
   "cell_type": "code",
   "execution_count": 8,
   "metadata": {},
   "outputs": [
    {
     "data": {
      "text/plain": [
       "24081922"
      ]
     },
     "execution_count": 8,
     "metadata": {},
     "output_type": "execute_result"
    }
   ],
   "source": [
    "post_rdd.count()"
   ]
  },
  {
   "cell_type": "code",
   "execution_count": 202,
   "metadata": {},
   "outputs": [],
   "source": [
    "df_tag = post_rdd.map(lambda x: (get_tag(x),1)).toDF(['text', 'score']).cache()"
   ]
  },
  {
   "cell_type": "code",
   "execution_count": 203,
   "metadata": {},
   "outputs": [],
   "source": [
    "w2v = Word2Vec(inputCol=\"text\", outputCol=\"vectors\", vectorSize=100, seed=42)\n",
    "model = w2v.fit(df_tag)"
   ]
  },
  {
   "cell_type": "code",
   "execution_count": 300,
   "metadata": {},
   "outputs": [],
   "source": [
    "# result = model.transform(df_tag)"
   ]
  },
  {
   "cell_type": "code",
   "execution_count": 204,
   "metadata": {},
   "outputs": [],
   "source": [
    "vectors = model.getVectors().rdd.map(lambda x: (x.word, x.vector))"
   ]
  },
  {
   "cell_type": "code",
   "execution_count": 205,
   "metadata": {},
   "outputs": [],
   "source": [
    "## Find the top 25 words similar to ggplot2 using Word2vec model\n",
    "ggplot_syn = model.findSynonyms('ggplot2', 25).rdd.map(lambda x: (x[0],x[1])).collect()"
   ]
  },
  {
   "cell_type": "code",
   "execution_count": 208,
   "metadata": {},
   "outputs": [
    {
     "data": {
      "text/plain": [
       "[('lattice', 0.8981772065162659),\n",
       " ('r-grid', 0.8513233661651611),\n",
       " ('plotrix', 0.847938060760498),\n",
       " ('boxplot', 0.8321753144264221),\n",
       " ('ecdf', 0.831939697265625),\n",
       " ('tapply', 0.8171764612197876),\n",
       " ('levelplot', 0.8164395689964294),\n",
       " ('line-plot', 0.8150685429573059),\n",
       " ('bwplot', 0.8137515187263489),\n",
       " ('quantile', 0.8122984170913696),\n",
       " ('gridextra', 0.8112598061561584),\n",
       " ('rgl', 0.8111367225646973),\n",
       " ('categorical-data', 0.8052302598953247),\n",
       " ('plotmath', 0.8047652840614319),\n",
       " ('standard-error', 0.8035489916801453),\n",
       " ('melt', 0.8027551174163818),\n",
       " ('r-factor', 0.8002736568450928),\n",
       " ('tidyr', 0.7998123168945312),\n",
       " ('density-plot', 0.7993367910385132),\n",
       " ('anova', 0.7988731861114502),\n",
       " ('geom-text', 0.797473669052124),\n",
       " ('gmisc', 0.7968437671661377),\n",
       " ('confidence-interval', 0.795746922492981),\n",
       " ('lm', 0.7955560088157654),\n",
       " ('trellis', 0.7951833605766296)]"
      ]
     },
     "execution_count": 208,
     "metadata": {},
     "output_type": "execute_result"
    }
   ],
   "source": [
    "ggplot_syn"
   ]
  },
  {
   "cell_type": "markdown",
   "metadata": {},
   "source": [
    "## 2. Classification\n"
   ]
  },
  {
   "cell_type": "markdown",
   "metadata": {},
   "source": [
    "This problem focus on predict the tags of a question from its body text. Instead of predicting specific tags, we try to predict if a question contains one of the top ten most common tags. \n",
    "\n",
    "Train and a test set from the original data. \n",
    "  * s3://dataincubator-course/spark-stats-data/posts_train.zip\n",
    "  * s3://dataincubator-course/spark-stats-data/posts_test.zip\n",
    "  * s3://dataincubator-course/spark-stats-data/posts_test_tagged.zip\n",
    "\n",
    "The solution involves in two steps: \n",
    "first, find the ten most common tags for questions in the training data set. \n",
    "Second, train a learner to predict from the text of the question (the `Body` attribute) if it should have one of those ten tags in it. (Process the question text with NLP techniques such as tokenization.)\n",
    "\n",
    "The predictions are `0` if the question isn't expected to have a top ten popular tag, and `1` if it is."
   ]
  },
  {
   "cell_type": "code",
   "execution_count": 216,
   "metadata": {},
   "outputs": [],
   "source": [
    "!unzip -d spark-stats-data/train spark-stats-data/posts_train.zip\n",
    "!unzip -d spark-stats-data/test spark-stats-data/posts_test_tagged.zip"
   ]
  },
  {
   "cell_type": "code",
   "execution_count": 217,
   "metadata": {},
   "outputs": [],
   "source": [
    "from bs4 import BeautifulSoup\n",
    "import re"
   ]
  },
  {
   "cell_type": "code",
   "execution_count": 218,
   "metadata": {},
   "outputs": [],
   "source": [
    "train_rdd = sc.textFile('/home/jovyan/datacourse/spark.new/miniprojects/spark-stats-data/train')\n",
    "train_rdd=xml_filter(train_rdd)"
   ]
  },
  {
   "cell_type": "code",
   "execution_count": 219,
   "metadata": {},
   "outputs": [],
   "source": [
    "## fetch the top 10 tags\n",
    "top_tag_list = train_rdd.filter(lambda x: post_parse(x)['PostTypeId']==1) \\\n",
    "         .flatMap(lambda x: (get_tag(x))).filter(lambda x: 'NoTag' not in x) \\\n",
    "         .map(lambda x:(x,1)) \\\n",
    "         .reduceByKey(lambda x,y: x+y) \\\n",
    "         .sortBy(lambda x: x[1],ascending=False).take(10)"
   ]
  },
  {
   "cell_type": "code",
   "execution_count": 220,
   "metadata": {},
   "outputs": [
    {
     "data": {
      "text/plain": [
       "['r',\n",
       " 'regression',\n",
       " 'time-series',\n",
       " 'machine-learning',\n",
       " 'probability',\n",
       " 'hypothesis-testing',\n",
       " 'distributions',\n",
       " 'self-study',\n",
       " 'logistic',\n",
       " 'correlation']"
      ]
     },
     "execution_count": 220,
     "metadata": {},
     "output_type": "execute_result"
    }
   ],
   "source": [
    "top_tag = []\n",
    "for item in top_tag_list:\n",
    "    top_tag.append(item[0])\n",
    "top_tag"
   ]
  },
  {
   "cell_type": "code",
   "execution_count": 221,
   "metadata": {},
   "outputs": [],
   "source": [
    "def label_popular(tags_list): ## helper function to label top 10 tags or not\n",
    "    for item in tags_list:\n",
    "        if item in top_tag:\n",
    "            return 1\n",
    "        else:\n",
    "            return 0"
   ]
  },
  {
   "cell_type": "code",
   "execution_count": 222,
   "metadata": {},
   "outputs": [
    {
     "data": {
      "text/plain": [
       "True"
      ]
     },
     "execution_count": 222,
     "metadata": {},
     "output_type": "execute_result"
    }
   ],
   "source": [
    "hasattr(train_rdd, \"toDF\")"
   ]
  },
  {
   "cell_type": "markdown",
   "metadata": {},
   "source": [
    "### Model pipeline"
   ]
  },
  {
   "cell_type": "code",
   "execution_count": 225,
   "metadata": {},
   "outputs": [],
   "source": [
    "from pyspark.ml.classification import RandomForestClassifier,NaiveBayes,LogisticRegression,OneVsRest,DecisionTreeClassifier\n",
    "from pyspark.ml.feature import Tokenizer,HashingTF, CountVectorizer,IDF,StopWordsRemover,RegexTokenizer\n",
    "from pyspark.ml import Pipeline\n",
    "from pyspark.ml.tuning import CrossValidator, ParamGridBuilder\n",
    "from pyspark.ml.evaluation import BinaryClassificationEvaluator"
   ]
  },
  {
   "cell_type": "code",
   "execution_count": 143,
   "metadata": {},
   "outputs": [
    {
     "name": "stdout",
     "output_type": "stream",
     "text": [
      "[nltk_data] Downloading package stopwords to /home/jovyan/nltk_data...\n",
      "[nltk_data]   Unzipping corpora/stopwords.zip.\n"
     ]
    },
    {
     "data": {
      "text/plain": [
       "True"
      ]
     },
     "execution_count": 143,
     "metadata": {},
     "output_type": "execute_result"
    }
   ],
   "source": [
    "import nltk\n",
    "nltk.download('stopwords')\n",
    "from nltk.corpus import stopwords\n",
    "stopWords = set(stopwords.words('english'))\n",
    "from spacy.lang.en.stop_words import STOP_WORDS"
   ]
  },
  {
   "cell_type": "code",
   "execution_count": 226,
   "metadata": {},
   "outputs": [],
   "source": [
    "df_train = train_rdd.filter(lambda x: post_parse(x)['PostTypeId']==1) \\\n",
    "                    .map(lambda x: (post_parse(x)['Id'],get_body(x),label_popular(get_tag(x)))) \\\n",
    "                    .toDF(['id','body_text', 'label']).cache()"
   ]
  },
  {
   "cell_type": "code",
   "execution_count": 227,
   "metadata": {},
   "outputs": [],
   "source": [
    "## Regex tokenize body text\n",
    "regToken = RegexTokenizer(inputCol='body_text',outputCol= 'raw_words')"
   ]
  },
  {
   "cell_type": "code",
   "execution_count": 228,
   "metadata": {},
   "outputs": [],
   "source": [
    "## Set and remove stop words (not used any stopword in the final model pipeline)\n",
    "stopRemove = StopWordsRemover(inputCol='raw_words',outputCol= 'words',stopWords=[])"
   ]
  },
  {
   "cell_type": "code",
   "execution_count": 229,
   "metadata": {},
   "outputs": [],
   "source": [
    "## Vectorized the words opt1\n",
    "hashingTF = HashingTF(inputCol='words', outputCol=\"rawfeatures\",numFeatures = 65536)"
   ]
  },
  {
   "cell_type": "code",
   "execution_count": 230,
   "metadata": {},
   "outputs": [],
   "source": [
    "## Vectorized the words opt2\n",
    "countVec = CountVectorizer(inputCol='words', outputCol=\"rawfeatures\",minDF = 0.01,maxDF=0.99)"
   ]
  },
  {
   "cell_type": "code",
   "execution_count": 231,
   "metadata": {},
   "outputs": [],
   "source": [
    "## TFIDF\n",
    "tfidf = IDF(inputCol='rawfeatures', outputCol=\"features\")"
   ]
  },
  {
   "cell_type": "code",
   "execution_count": 279,
   "metadata": {},
   "outputs": [],
   "source": [
    "## logistic regression\n",
    "logreg = LogisticRegression(regParam=0.01) # best regParam = 0.001"
   ]
  },
  {
   "cell_type": "code",
   "execution_count": 233,
   "metadata": {},
   "outputs": [],
   "source": [
    "## Pyspark grid search\n",
    "## logistic grid search\n",
    "paramGrid = (ParamGridBuilder() \n",
    "#     .addGrid(hashingTF.numFeatures, [1000,2000,3000]) \n",
    "    .addGrid(logreg.regParam, [0.001,0.01,1,10]) \n",
    "    .build())\n",
    "## RF grid search\n",
    "# paramGrid = (ParamGridBuilder() \n",
    "#     .addGrid(hashingTF.numFeatures, [1000,2000,3000]) \n",
    "#     .addGrid(rf.numTrees, [20,50]) \n",
    "#     .build())"
   ]
  },
  {
   "cell_type": "code",
   "execution_count": 415,
   "metadata": {},
   "outputs": [],
   "source": [
    "## alternative classifier\n",
    "nb = NaiveBayes(featuresCol = 'features', labelCol = 'label')\n",
    "ovr = OneVsRest(featuresCol = 'features', labelCol = 'label',classifier=logreg)\n",
    "rf = RandomForestClassifier(featuresCol = 'features', labelCol = 'label',numTrees=50)"
   ]
  },
  {
   "cell_type": "code",
   "execution_count": 280,
   "metadata": {},
   "outputs": [],
   "source": [
    "## Model pipeline\n",
    "pipeline = Pipeline(stages=[regToken,stopRemove,countVec,tfidf,logreg])"
   ]
  },
  {
   "cell_type": "markdown",
   "metadata": {},
   "source": [
    "### Cross validation for parameter selection\n"
   ]
  },
  {
   "cell_type": "code",
   "execution_count": 235,
   "metadata": {},
   "outputs": [],
   "source": [
    "crossval = CrossValidator(estimator=pipeline,\n",
    "                          estimatorParamMaps=paramGrid,\n",
    "                          evaluator=BinaryClassificationEvaluator(),\n",
    "                          numFolds=5)"
   ]
  },
  {
   "cell_type": "code",
   "execution_count": null,
   "metadata": {},
   "outputs": [],
   "source": [
    "## Cross Validation\n",
    "cvModel = crossval.fit(df_train)"
   ]
  },
  {
   "cell_type": "code",
   "execution_count": 277,
   "metadata": {},
   "outputs": [
    {
     "data": {
      "text/plain": [
       "[0.7387147917239714, 0.739296975368692, 0.7306034167058599, 0.71170079146182]"
      ]
     },
     "execution_count": 277,
     "metadata": {},
     "output_type": "execute_result"
    }
   ],
   "source": [
    "cvModel.avgMetrics ## Metrics: areaunderROC"
   ]
  },
  {
   "cell_type": "code",
   "execution_count": 291,
   "metadata": {},
   "outputs": [
    {
     "data": {
      "text/plain": [
       "<zip at 0x7fd8069a4908>"
      ]
     },
     "execution_count": 291,
     "metadata": {},
     "output_type": "execute_result"
    }
   ],
   "source": [
    "zip(cvModel.avgMetrics, paramGrid)"
   ]
  },
  {
   "cell_type": "code",
   "execution_count": 278,
   "metadata": {},
   "outputs": [
    {
     "data": {
      "text/plain": [
       "{Param(parent='LogisticRegression_70dd6d4f6976', name='aggregationDepth', doc='suggested depth for treeAggregate (>= 2)'): 2,\n",
       " Param(parent='LogisticRegression_70dd6d4f6976', name='elasticNetParam', doc='the ElasticNet mixing parameter, in range [0, 1]. For alpha = 0, the penalty is an L2 penalty. For alpha = 1, it is an L1 penalty'): 0.0,\n",
       " Param(parent='LogisticRegression_70dd6d4f6976', name='family', doc='The name of family which is a description of the label distribution to be used in the model. Supported options: auto, binomial, multinomial.'): 'auto',\n",
       " Param(parent='LogisticRegression_70dd6d4f6976', name='featuresCol', doc='features column name'): 'features',\n",
       " Param(parent='LogisticRegression_70dd6d4f6976', name='fitIntercept', doc='whether to fit an intercept term'): True,\n",
       " Param(parent='LogisticRegression_70dd6d4f6976', name='labelCol', doc='label column name'): 'label',\n",
       " Param(parent='LogisticRegression_70dd6d4f6976', name='maxIter', doc='maximum number of iterations (>= 0)'): 100,\n",
       " Param(parent='LogisticRegression_70dd6d4f6976', name='predictionCol', doc='prediction column name'): 'prediction',\n",
       " Param(parent='LogisticRegression_70dd6d4f6976', name='probabilityCol', doc='Column name for predicted class conditional probabilities. Note: Not all models output well-calibrated probability estimates! These probabilities should be treated as confidences, not precise probabilities'): 'probability',\n",
       " Param(parent='LogisticRegression_70dd6d4f6976', name='rawPredictionCol', doc='raw prediction (a.k.a. confidence) column name'): 'rawPrediction',\n",
       " Param(parent='LogisticRegression_70dd6d4f6976', name='regParam', doc='regularization parameter (>= 0)'): 0.01,\n",
       " Param(parent='LogisticRegression_70dd6d4f6976', name='standardization', doc='whether to standardize the training features before fitting the model'): True,\n",
       " Param(parent='LogisticRegression_70dd6d4f6976', name='threshold', doc='threshold in binary classification prediction, in range [0, 1]'): 0.5,\n",
       " Param(parent='LogisticRegression_70dd6d4f6976', name='tol', doc='the convergence tolerance for iterative algorithms (>= 0)'): 1e-06}"
      ]
     },
     "execution_count": 278,
     "metadata": {},
     "output_type": "execute_result"
    }
   ],
   "source": [
    "cvModel.bestModel.stages[4].extractParamMap()"
   ]
  },
  {
   "cell_type": "markdown",
   "metadata": {},
   "source": [
    "### Model fit"
   ]
  },
  {
   "cell_type": "code",
   "execution_count": 281,
   "metadata": {},
   "outputs": [
    {
     "name": "stdout",
     "output_type": "stream",
     "text": [
      "It takes: 0:00:41.561004\n"
     ]
    }
   ],
   "source": [
    "## model fit\n",
    "start = datetime.now()\n",
    "\n",
    "pipe_model = pipeline.fit(df_train)\n",
    "\n",
    "end = datetime.now()\n",
    "print('It takes: ' + str(end-start))"
   ]
  },
  {
   "cell_type": "markdown",
   "metadata": {},
   "source": [
    "### Predict test data"
   ]
  },
  {
   "cell_type": "code",
   "execution_count": 260,
   "metadata": {},
   "outputs": [],
   "source": [
    "test_rdd = sc.textFile('/home/jovyan/datacourse/spark.new/miniprojects/spark-stats-data/test')\n",
    "test_rdd = xml_filter(test_rdd)"
   ]
  },
  {
   "cell_type": "code",
   "execution_count": 264,
   "metadata": {},
   "outputs": [],
   "source": [
    "df_test = test_rdd.filter(lambda x: post_parse(x)['PostTypeId']==1) \\\n",
    "                    .map(lambda x: (post_parse(x)['Id'],get_body(x),label_popular(get_tag(x)))) \\\n",
    "                    .toDF(['id','body_text', 'label']).cache()"
   ]
  },
  {
   "cell_type": "code",
   "execution_count": 265,
   "metadata": {},
   "outputs": [],
   "source": [
    "prediction = cvModel.transform(df_test)\n",
    "# prediction = pipe_model.transform(df_test)"
   ]
  },
  {
   "cell_type": "code",
   "execution_count": 266,
   "metadata": {},
   "outputs": [],
   "source": [
    "prediction = prediction.sort('id')"
   ]
  },
  {
   "cell_type": "markdown",
   "metadata": {},
   "source": [
    "### Test validation"
   ]
  },
  {
   "cell_type": "code",
   "execution_count": 311,
   "metadata": {},
   "outputs": [],
   "source": [
    "from pyspark.ml.evaluation import BinaryClassificationEvaluator"
   ]
  },
  {
   "cell_type": "code",
   "execution_count": 316,
   "metadata": {},
   "outputs": [],
   "source": [
    "evaluator = BinaryClassificationEvaluator(rawPredictionCol='rawPrediction', labelCol='label', metricName='areaUnderROC')"
   ]
  },
  {
   "cell_type": "code",
   "execution_count": 317,
   "metadata": {},
   "outputs": [
    {
     "data": {
      "text/plain": [
       "0.7491933968814067"
      ]
     },
     "execution_count": 317,
     "metadata": {},
     "output_type": "execute_result"
    }
   ],
   "source": [
    "evaluator.evaluate(prediction)"
   ]
  },
  {
   "cell_type": "markdown",
   "metadata": {},
   "source": [
    "*Copyright &copy; 2019 The Data Incubator.  All rights reserved.*"
   ]
  }
 ],
 "metadata": {
  "kernelspec": {
   "display_name": "Python 3",
   "language": "python",
   "name": "python3"
  },
  "language_info": {
   "codemirror_mode": {
    "name": "ipython",
    "version": 3
   },
   "file_extension": ".py",
   "mimetype": "text/x-python",
   "name": "python",
   "nbconvert_exporter": "python",
   "pygments_lexer": "ipython3",
   "version": "3.6.2"
  },
  "nbclean": true
 },
 "nbformat": 4,
 "nbformat_minor": 1
}
